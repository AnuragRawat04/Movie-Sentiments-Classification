{
 "cells": [
  {
   "cell_type": "code",
   "execution_count": 1,
   "id": "2679a253",
   "metadata": {},
   "outputs": [
    {
     "name": "stdout",
     "output_type": "stream",
     "text": [
      "Requirement already satisfied: keras in c:\\users\\anurag rawat\\anaconda3\\envs\\arnav\\lib\\site-packages (3.10.0)\n",
      "Requirement already satisfied: absl-py in c:\\users\\anurag rawat\\anaconda3\\envs\\arnav\\lib\\site-packages (from keras) (2.3.1)\n",
      "Requirement already satisfied: numpy in c:\\users\\anurag rawat\\anaconda3\\envs\\arnav\\lib\\site-packages (from keras) (2.1.3)\n",
      "Requirement already satisfied: rich in c:\\users\\anurag rawat\\anaconda3\\envs\\arnav\\lib\\site-packages (from keras) (14.0.0)\n",
      "Requirement already satisfied: namex in c:\\users\\anurag rawat\\anaconda3\\envs\\arnav\\lib\\site-packages (from keras) (0.1.0)\n",
      "Requirement already satisfied: h5py in c:\\users\\anurag rawat\\anaconda3\\envs\\arnav\\lib\\site-packages (from keras) (3.14.0)\n",
      "Requirement already satisfied: optree in c:\\users\\anurag rawat\\anaconda3\\envs\\arnav\\lib\\site-packages (from keras) (0.16.0)\n",
      "Requirement already satisfied: ml-dtypes in c:\\users\\anurag rawat\\anaconda3\\envs\\arnav\\lib\\site-packages (from keras) (0.5.1)\n",
      "Requirement already satisfied: packaging in c:\\users\\anurag rawat\\anaconda3\\envs\\arnav\\lib\\site-packages (from keras) (24.2)\n",
      "Requirement already satisfied: typing-extensions>=4.6.0 in c:\\users\\anurag rawat\\anaconda3\\envs\\arnav\\lib\\site-packages (from optree->keras) (4.12.2)\n",
      "Requirement already satisfied: markdown-it-py>=2.2.0 in c:\\users\\anurag rawat\\anaconda3\\envs\\arnav\\lib\\site-packages (from rich->keras) (3.0.0)\n",
      "Requirement already satisfied: pygments<3.0.0,>=2.13.0 in c:\\users\\anurag rawat\\anaconda3\\envs\\arnav\\lib\\site-packages (from rich->keras) (2.19.1)\n",
      "Requirement already satisfied: mdurl~=0.1 in c:\\users\\anurag rawat\\anaconda3\\envs\\arnav\\lib\\site-packages (from markdown-it-py>=2.2.0->rich->keras) (0.1.2)\n"
     ]
    }
   ],
   "source": [
    "!pip install keras"
   ]
  },
  {
   "cell_type": "code",
   "execution_count": 3,
   "id": "3612c14b",
   "metadata": {},
   "outputs": [],
   "source": [
    "from tensorflow.keras.preprocessing.text import one_hot"
   ]
  },
  {
   "cell_type": "code",
   "execution_count": 5,
   "id": "dabcec7f",
   "metadata": {},
   "outputs": [],
   "source": [
    "###sentences\n",
    "sent=[\n",
    "    'the glass of milk',\n",
    "    'the cup of tea',\n",
    "    'I am a good boy',\n",
    "    'I am a ggood developer',\n",
    "    'underrstand the meaning of words',\n",
    "    'your videos are good'\n",
    "]"
   ]
  },
  {
   "cell_type": "code",
   "execution_count": 6,
   "id": "86c7faad",
   "metadata": {},
   "outputs": [
    {
     "data": {
      "text/plain": [
       "['the glass of milk',\n",
       " 'the cup of tea',\n",
       " 'I am a good boy',\n",
       " 'I am a ggood developer',\n",
       " 'underrstand the meaning of words',\n",
       " 'your videos are good']"
      ]
     },
     "execution_count": 6,
     "metadata": {},
     "output_type": "execute_result"
    }
   ],
   "source": [
    "sent"
   ]
  },
  {
   "cell_type": "code",
   "execution_count": 7,
   "id": "27dd9ca2",
   "metadata": {},
   "outputs": [],
   "source": [
    "#define vocabulary size\n",
    "voc_size=10000"
   ]
  },
  {
   "cell_type": "code",
   "execution_count": 8,
   "id": "26abe277",
   "metadata": {},
   "outputs": [
    {
     "data": {
      "text/plain": [
       "[[8720, 3907, 6162, 6802],\n",
       " [8720, 9297, 6162, 5532],\n",
       " [9672, 9907, 1444, 3120, 6959],\n",
       " [9672, 9907, 1444, 1287, 9458],\n",
       " [1348, 8720, 9638, 6162, 9246],\n",
       " [5099, 2911, 6858, 3120]]"
      ]
     },
     "execution_count": 8,
     "metadata": {},
     "output_type": "execute_result"
    }
   ],
   "source": [
    "### obne hot representaation\n",
    "one_hot_representation=[one_hot(words,voc_size)for words in sent]\n",
    "one_hot_representation\n",
    "                               "
   ]
  },
  {
   "cell_type": "code",
   "execution_count": 9,
   "id": "8a133a83",
   "metadata": {},
   "outputs": [],
   "source": [
    "##word embedding representation\n",
    "from tensorflow.keras.layers import Embedding\n",
    "from tensorflow.keras.utils import pad_sequences\n",
    "from tensorflow.keras.models import Sequential"
   ]
  },
  {
   "cell_type": "code",
   "execution_count": 10,
   "id": "b45d2498",
   "metadata": {},
   "outputs": [],
   "source": [
    "import numpy as np"
   ]
  },
  {
   "cell_type": "code",
   "execution_count": 11,
   "id": "0c956154",
   "metadata": {},
   "outputs": [
    {
     "name": "stdout",
     "output_type": "stream",
     "text": [
      "[[   0    0    0    0 8720 3907 6162 6802]\n",
      " [   0    0    0    0 8720 9297 6162 5532]\n",
      " [   0    0    0 9672 9907 1444 3120 6959]\n",
      " [   0    0    0 9672 9907 1444 1287 9458]\n",
      " [   0    0    0 1348 8720 9638 6162 9246]\n",
      " [   0    0    0    0 5099 2911 6858 3120]]\n"
     ]
    }
   ],
   "source": [
    "sent_length=8\n",
    "emmbedded_docs=pad_sequences(one_hot_representation,padding='pre',maxlen=sent_length)\n",
    "print(emmbedded_docs)"
   ]
  },
  {
   "cell_type": "code",
   "execution_count": 12,
   "id": "e9fbb649",
   "metadata": {},
   "outputs": [],
   "source": [
    "##feartures dimension\n",
    "dim=10"
   ]
  },
  {
   "cell_type": "code",
   "execution_count": 13,
   "id": "f46ef763",
   "metadata": {},
   "outputs": [
    {
     "name": "stderr",
     "output_type": "stream",
     "text": [
      "c:\\Users\\ANURAG RAWAT\\anaconda3\\envs\\arnav\\Lib\\site-packages\\keras\\src\\layers\\core\\embedding.py:97: UserWarning: Argument `input_length` is deprecated. Just remove it.\n",
      "  warnings.warn(\n"
     ]
    }
   ],
   "source": [
    "model=Sequential()\n",
    "model.add(Embedding(voc_size,dim,input_length=sent_length))\n",
    "model.compile('adam','mse')"
   ]
  },
  {
   "cell_type": "code",
   "execution_count": 15,
   "id": "f420a8d6",
   "metadata": {},
   "outputs": [
    {
     "data": {
      "text/html": [
       "<pre style=\"white-space:pre;overflow-x:auto;line-height:normal;font-family:Menlo,'DejaVu Sans Mono',consolas,'Courier New',monospace\"><span style=\"font-weight: bold\">Model: \"sequential\"</span>\n",
       "</pre>\n"
      ],
      "text/plain": [
       "\u001b[1mModel: \"sequential\"\u001b[0m\n"
      ]
     },
     "metadata": {},
     "output_type": "display_data"
    },
    {
     "data": {
      "text/html": [
       "<pre style=\"white-space:pre;overflow-x:auto;line-height:normal;font-family:Menlo,'DejaVu Sans Mono',consolas,'Courier New',monospace\">┏━━━━━━━━━━━━━━━━━━━━━━━━━━━━━━━━━┳━━━━━━━━━━━━━━━━━━━━━━━━┳━━━━━━━━━━━━━━━┓\n",
       "┃<span style=\"font-weight: bold\"> Layer (type)                    </span>┃<span style=\"font-weight: bold\"> Output Shape           </span>┃<span style=\"font-weight: bold\">       Param # </span>┃\n",
       "┡━━━━━━━━━━━━━━━━━━━━━━━━━━━━━━━━━╇━━━━━━━━━━━━━━━━━━━━━━━━╇━━━━━━━━━━━━━━━┩\n",
       "│ embedding (<span style=\"color: #0087ff; text-decoration-color: #0087ff\">Embedding</span>)           │ ?                      │   <span style=\"color: #00af00; text-decoration-color: #00af00\">0</span> (unbuilt) │\n",
       "└─────────────────────────────────┴────────────────────────┴───────────────┘\n",
       "</pre>\n"
      ],
      "text/plain": [
       "┏━━━━━━━━━━━━━━━━━━━━━━━━━━━━━━━━━┳━━━━━━━━━━━━━━━━━━━━━━━━┳━━━━━━━━━━━━━━━┓\n",
       "┃\u001b[1m \u001b[0m\u001b[1mLayer (type)                   \u001b[0m\u001b[1m \u001b[0m┃\u001b[1m \u001b[0m\u001b[1mOutput Shape          \u001b[0m\u001b[1m \u001b[0m┃\u001b[1m \u001b[0m\u001b[1m      Param #\u001b[0m\u001b[1m \u001b[0m┃\n",
       "┡━━━━━━━━━━━━━━━━━━━━━━━━━━━━━━━━━╇━━━━━━━━━━━━━━━━━━━━━━━━╇━━━━━━━━━━━━━━━┩\n",
       "│ embedding (\u001b[38;5;33mEmbedding\u001b[0m)           │ ?                      │   \u001b[38;5;34m0\u001b[0m (unbuilt) │\n",
       "└─────────────────────────────────┴────────────────────────┴───────────────┘\n"
      ]
     },
     "metadata": {},
     "output_type": "display_data"
    },
    {
     "data": {
      "text/html": [
       "<pre style=\"white-space:pre;overflow-x:auto;line-height:normal;font-family:Menlo,'DejaVu Sans Mono',consolas,'Courier New',monospace\"><span style=\"font-weight: bold\"> Total params: </span><span style=\"color: #00af00; text-decoration-color: #00af00\">0</span> (0.00 B)\n",
       "</pre>\n"
      ],
      "text/plain": [
       "\u001b[1m Total params: \u001b[0m\u001b[38;5;34m0\u001b[0m (0.00 B)\n"
      ]
     },
     "metadata": {},
     "output_type": "display_data"
    },
    {
     "data": {
      "text/html": [
       "<pre style=\"white-space:pre;overflow-x:auto;line-height:normal;font-family:Menlo,'DejaVu Sans Mono',consolas,'Courier New',monospace\"><span style=\"font-weight: bold\"> Trainable params: </span><span style=\"color: #00af00; text-decoration-color: #00af00\">0</span> (0.00 B)\n",
       "</pre>\n"
      ],
      "text/plain": [
       "\u001b[1m Trainable params: \u001b[0m\u001b[38;5;34m0\u001b[0m (0.00 B)\n"
      ]
     },
     "metadata": {},
     "output_type": "display_data"
    },
    {
     "data": {
      "text/html": [
       "<pre style=\"white-space:pre;overflow-x:auto;line-height:normal;font-family:Menlo,'DejaVu Sans Mono',consolas,'Courier New',monospace\"><span style=\"font-weight: bold\"> Non-trainable params: </span><span style=\"color: #00af00; text-decoration-color: #00af00\">0</span> (0.00 B)\n",
       "</pre>\n"
      ],
      "text/plain": [
       "\u001b[1m Non-trainable params: \u001b[0m\u001b[38;5;34m0\u001b[0m (0.00 B)\n"
      ]
     },
     "metadata": {},
     "output_type": "display_data"
    }
   ],
   "source": [
    "model.summary()"
   ]
  },
  {
   "cell_type": "code",
   "execution_count": 17,
   "id": "f83d4a7c",
   "metadata": {},
   "outputs": [
    {
     "name": "stdout",
     "output_type": "stream",
     "text": [
      "\u001b[1m1/1\u001b[0m \u001b[32m━━━━━━━━━━━━━━━━━━━━\u001b[0m\u001b[37m\u001b[0m \u001b[1m0s\u001b[0m 348ms/step\n"
     ]
    },
    {
     "data": {
      "text/plain": [
       "array([[[-0.02064166, -0.01310875,  0.03672225, -0.01155061,\n",
       "         -0.0289869 , -0.03334177, -0.04163992, -0.04770128,\n",
       "         -0.02381376,  0.01244167],\n",
       "        [-0.02064166, -0.01310875,  0.03672225, -0.01155061,\n",
       "         -0.0289869 , -0.03334177, -0.04163992, -0.04770128,\n",
       "         -0.02381376,  0.01244167],\n",
       "        [-0.02064166, -0.01310875,  0.03672225, -0.01155061,\n",
       "         -0.0289869 , -0.03334177, -0.04163992, -0.04770128,\n",
       "         -0.02381376,  0.01244167],\n",
       "        [-0.02064166, -0.01310875,  0.03672225, -0.01155061,\n",
       "         -0.0289869 , -0.03334177, -0.04163992, -0.04770128,\n",
       "         -0.02381376,  0.01244167],\n",
       "        [-0.03809176,  0.03860095, -0.0121451 , -0.01416608,\n",
       "          0.01338749,  0.04353324,  0.04591987,  0.03904862,\n",
       "          0.01016656, -0.02365627],\n",
       "        [ 0.02142847,  0.03260725,  0.04446305,  0.02427967,\n",
       "          0.02144431,  0.02910054,  0.03791321,  0.02117405,\n",
       "          0.03344233, -0.03049721],\n",
       "        [ 0.01392836,  0.03951028, -0.02093328,  0.03080776,\n",
       "         -0.03281055,  0.01714447, -0.0470039 ,  0.04603763,\n",
       "          0.04232107,  0.00213425],\n",
       "        [ 0.01508215, -0.03590945, -0.03134118,  0.04554318,\n",
       "         -0.04162849,  0.00870291,  0.04481003,  0.03701581,\n",
       "          0.02742112,  0.031323  ]],\n",
       "\n",
       "       [[-0.02064166, -0.01310875,  0.03672225, -0.01155061,\n",
       "         -0.0289869 , -0.03334177, -0.04163992, -0.04770128,\n",
       "         -0.02381376,  0.01244167],\n",
       "        [-0.02064166, -0.01310875,  0.03672225, -0.01155061,\n",
       "         -0.0289869 , -0.03334177, -0.04163992, -0.04770128,\n",
       "         -0.02381376,  0.01244167],\n",
       "        [-0.02064166, -0.01310875,  0.03672225, -0.01155061,\n",
       "         -0.0289869 , -0.03334177, -0.04163992, -0.04770128,\n",
       "         -0.02381376,  0.01244167],\n",
       "        [-0.02064166, -0.01310875,  0.03672225, -0.01155061,\n",
       "         -0.0289869 , -0.03334177, -0.04163992, -0.04770128,\n",
       "         -0.02381376,  0.01244167],\n",
       "        [-0.03809176,  0.03860095, -0.0121451 , -0.01416608,\n",
       "          0.01338749,  0.04353324,  0.04591987,  0.03904862,\n",
       "          0.01016656, -0.02365627],\n",
       "        [ 0.02292443, -0.04821744, -0.03882542, -0.00788327,\n",
       "          0.04364962, -0.02587487,  0.02509583, -0.02076737,\n",
       "          0.04558319, -0.04132633],\n",
       "        [ 0.01392836,  0.03951028, -0.02093328,  0.03080776,\n",
       "         -0.03281055,  0.01714447, -0.0470039 ,  0.04603763,\n",
       "          0.04232107,  0.00213425],\n",
       "        [ 0.00378012,  0.04712545, -0.03372912, -0.01764886,\n",
       "         -0.03584745,  0.00748063, -0.03962619, -0.01768421,\n",
       "          0.00856704, -0.01803905]],\n",
       "\n",
       "       [[-0.02064166, -0.01310875,  0.03672225, -0.01155061,\n",
       "         -0.0289869 , -0.03334177, -0.04163992, -0.04770128,\n",
       "         -0.02381376,  0.01244167],\n",
       "        [-0.02064166, -0.01310875,  0.03672225, -0.01155061,\n",
       "         -0.0289869 , -0.03334177, -0.04163992, -0.04770128,\n",
       "         -0.02381376,  0.01244167],\n",
       "        [-0.02064166, -0.01310875,  0.03672225, -0.01155061,\n",
       "         -0.0289869 , -0.03334177, -0.04163992, -0.04770128,\n",
       "         -0.02381376,  0.01244167],\n",
       "        [ 0.00418786, -0.00942792, -0.01252439,  0.02519461,\n",
       "          0.01656331,  0.02764023,  0.00997999,  0.01212338,\n",
       "          0.03193781, -0.04908561],\n",
       "        [-0.01002241, -0.0046097 , -0.00961979,  0.002491  ,\n",
       "          0.0142133 ,  0.02070965,  0.0031896 ,  0.01198751,\n",
       "          0.00101783,  0.00976751],\n",
       "        [-0.03652937, -0.02956676,  0.01549938, -0.04250247,\n",
       "         -0.02663698,  0.02098459,  0.02636086,  0.00479629,\n",
       "         -0.03002268,  0.00153496],\n",
       "        [-0.04242523,  0.00287282,  0.03577525,  0.00212999,\n",
       "          0.02100315,  0.04404742,  0.03033317,  0.01313173,\n",
       "          0.01202637, -0.01029445],\n",
       "        [-0.04960288, -0.04672899,  0.00993245,  0.0167456 ,\n",
       "          0.03921943,  0.01306712, -0.01956031, -0.01779088,\n",
       "          0.04227073,  0.02823427]],\n",
       "\n",
       "       [[-0.02064166, -0.01310875,  0.03672225, -0.01155061,\n",
       "         -0.0289869 , -0.03334177, -0.04163992, -0.04770128,\n",
       "         -0.02381376,  0.01244167],\n",
       "        [-0.02064166, -0.01310875,  0.03672225, -0.01155061,\n",
       "         -0.0289869 , -0.03334177, -0.04163992, -0.04770128,\n",
       "         -0.02381376,  0.01244167],\n",
       "        [-0.02064166, -0.01310875,  0.03672225, -0.01155061,\n",
       "         -0.0289869 , -0.03334177, -0.04163992, -0.04770128,\n",
       "         -0.02381376,  0.01244167],\n",
       "        [ 0.00418786, -0.00942792, -0.01252439,  0.02519461,\n",
       "          0.01656331,  0.02764023,  0.00997999,  0.01212338,\n",
       "          0.03193781, -0.04908561],\n",
       "        [-0.01002241, -0.0046097 , -0.00961979,  0.002491  ,\n",
       "          0.0142133 ,  0.02070965,  0.0031896 ,  0.01198751,\n",
       "          0.00101783,  0.00976751],\n",
       "        [-0.03652937, -0.02956676,  0.01549938, -0.04250247,\n",
       "         -0.02663698,  0.02098459,  0.02636086,  0.00479629,\n",
       "         -0.03002268,  0.00153496],\n",
       "        [-0.02490327, -0.03635088, -0.04384129,  0.01832814,\n",
       "          0.03276894, -0.01886218,  0.00628398, -0.04938965,\n",
       "         -0.04729085, -0.00029465],\n",
       "        [ 0.01671771,  0.04471895,  0.039444  , -0.03740411,\n",
       "         -0.04868558, -0.03664974, -0.00888356,  0.0244706 ,\n",
       "          0.03865084, -0.04970286]],\n",
       "\n",
       "       [[-0.02064166, -0.01310875,  0.03672225, -0.01155061,\n",
       "         -0.0289869 , -0.03334177, -0.04163992, -0.04770128,\n",
       "         -0.02381376,  0.01244167],\n",
       "        [-0.02064166, -0.01310875,  0.03672225, -0.01155061,\n",
       "         -0.0289869 , -0.03334177, -0.04163992, -0.04770128,\n",
       "         -0.02381376,  0.01244167],\n",
       "        [-0.02064166, -0.01310875,  0.03672225, -0.01155061,\n",
       "         -0.0289869 , -0.03334177, -0.04163992, -0.04770128,\n",
       "         -0.02381376,  0.01244167],\n",
       "        [-0.01942074, -0.04636873, -0.00534196,  0.0107221 ,\n",
       "          0.02217403, -0.03671756, -0.02000692, -0.00898337,\n",
       "          0.03995356, -0.00224954],\n",
       "        [-0.03809176,  0.03860095, -0.0121451 , -0.01416608,\n",
       "          0.01338749,  0.04353324,  0.04591987,  0.03904862,\n",
       "          0.01016656, -0.02365627],\n",
       "        [ 0.00950521,  0.0050252 , -0.04909656, -0.00038273,\n",
       "         -0.04166858, -0.01489387,  0.0311304 , -0.04371867,\n",
       "         -0.02993269,  0.02053643],\n",
       "        [ 0.01392836,  0.03951028, -0.02093328,  0.03080776,\n",
       "         -0.03281055,  0.01714447, -0.0470039 ,  0.04603763,\n",
       "          0.04232107,  0.00213425],\n",
       "        [ 0.01923193, -0.004954  , -0.04367969,  0.01637203,\n",
       "          0.01515939, -0.04728193, -0.00295249, -0.01591605,\n",
       "         -0.01465569, -0.00360298]],\n",
       "\n",
       "       [[-0.02064166, -0.01310875,  0.03672225, -0.01155061,\n",
       "         -0.0289869 , -0.03334177, -0.04163992, -0.04770128,\n",
       "         -0.02381376,  0.01244167],\n",
       "        [-0.02064166, -0.01310875,  0.03672225, -0.01155061,\n",
       "         -0.0289869 , -0.03334177, -0.04163992, -0.04770128,\n",
       "         -0.02381376,  0.01244167],\n",
       "        [-0.02064166, -0.01310875,  0.03672225, -0.01155061,\n",
       "         -0.0289869 , -0.03334177, -0.04163992, -0.04770128,\n",
       "         -0.02381376,  0.01244167],\n",
       "        [-0.02064166, -0.01310875,  0.03672225, -0.01155061,\n",
       "         -0.0289869 , -0.03334177, -0.04163992, -0.04770128,\n",
       "         -0.02381376,  0.01244167],\n",
       "        [-0.01341292,  0.00138041, -0.01641237, -0.00501291,\n",
       "          0.02047754,  0.00321786,  0.02439452,  0.03078094,\n",
       "          0.04383953,  0.04069758],\n",
       "        [ 0.04675517, -0.04378476, -0.01592195, -0.03384867,\n",
       "         -0.04189723, -0.04773021,  0.01276005, -0.04244756,\n",
       "         -0.01524054, -0.02033962],\n",
       "        [ 0.0219123 , -0.00366193,  0.03409416,  0.03367699,\n",
       "          0.04688818,  0.02099461,  0.0308175 , -0.02065878,\n",
       "         -0.04600282,  0.03760694],\n",
       "        [-0.04242523,  0.00287282,  0.03577525,  0.00212999,\n",
       "          0.02100315,  0.04404742,  0.03033317,  0.01313173,\n",
       "          0.01202637, -0.01029445]]], dtype=float32)"
      ]
     },
     "execution_count": 17,
     "metadata": {},
     "output_type": "execute_result"
    }
   ],
   "source": [
    "model.predict(emmbedded_docs)"
   ]
  },
  {
   "cell_type": "code",
   "execution_count": null,
   "id": "8d5823e4",
   "metadata": {},
   "outputs": [],
   "source": []
  },
  {
   "cell_type": "code",
   "execution_count": null,
   "id": "83fc151b",
   "metadata": {},
   "outputs": [],
   "source": []
  },
  {
   "cell_type": "code",
   "execution_count": null,
   "id": "70efcd2d",
   "metadata": {},
   "outputs": [],
   "source": []
  },
  {
   "cell_type": "code",
   "execution_count": null,
   "id": "51575b53",
   "metadata": {},
   "outputs": [],
   "source": []
  }
 ],
 "metadata": {
  "kernelspec": {
   "display_name": "arnav",
   "language": "python",
   "name": "python3"
  },
  "language_info": {
   "codemirror_mode": {
    "name": "ipython",
    "version": 3
   },
   "file_extension": ".py",
   "mimetype": "text/x-python",
   "name": "python",
   "nbconvert_exporter": "python",
   "pygments_lexer": "ipython3",
   "version": "3.12.11"
  }
 },
 "nbformat": 4,
 "nbformat_minor": 5
}
